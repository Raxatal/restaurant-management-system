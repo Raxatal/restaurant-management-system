{
  "nbformat": 4,
  "nbformat_minor": 0,
  "metadata": {
    "colab": {
      "provenance": []
    },
    "kernelspec": {
      "name": "python3",
      "display_name": "Python 3"
    },
    "language_info": {
      "name": "python"
    }
  },
  "cells": [
    {
      "cell_type": "code",
      "source": [
        "from google.colab import drive\n",
        "drive.mount('/content/drive/')"
      ],
      "metadata": {
        "id": "WWTwOvBLAgYN",
        "colab": {
          "base_uri": "https://localhost:8080/"
        },
        "outputId": "2c68dd0d-6d92-4f93-efbf-472b247ef483"
      },
      "execution_count": 200,
      "outputs": [
        {
          "output_type": "stream",
          "name": "stdout",
          "text": [
            "Drive already mounted at /content/drive/; to attempt to forcibly remount, call drive.mount(\"/content/drive/\", force_remount=True).\n"
          ]
        }
      ]
    },
    {
      "cell_type": "markdown",
      "source": [
        "# Hackathon Group 22\n",
        "\n",
        "#Members :\n",
        "> IQMAL AIDID BIN ZAKARIA \\\\\n",
        "> AHMAD DZULHANIF BIN DZURAIDI \\\\\n",
        "> JALAL NAIM BIN MAT YAACOB \\\\\n",
        "\n",
        "\n",
        "--- \n",
        "\n",
        "#Project Title: Restaurant Management\n",
        "\n",
        "##Project Specification:\n",
        "\n",
        "###Description of The question Requirements:\n",
        "\n",
        "In this project, we are tasked with developing a complete C++ program for managing a restaurant. The program should demonstrate our understanding of object-oriented programming concepts and showcase the use of multiple classes and their relationships. The client has provided us with the freedom to propose and implement the features for the program. Our goal is to create a comprehensive and functional solution that effectively manages various aspects of a restaurant.\n",
        "\n",
        "\n"
      ],
      "metadata": {
        "id": "J9cNO1Lzc0Ig"
      }
    },
    {
      "cell_type": "markdown",
      "source": [
        "###The Problem our Program is Trying to Solve Using Object-oriented Programming:\n",
        "\n",
        "The problem at hand is to develop a software solution that streamlines the operations and management of a restaurant. By using object-oriented programming, we aim to create an efficient, modular, and extensible program that addresses key requirements such as menu management, order processing and table management. The use of classes and their relationships will allow us to  enabling better organization, code reusability, and scalability."
      ],
      "metadata": {
        "id": "Iz2WDogLH8HB"
      }
    },
    {
      "cell_type": "markdown",
      "source": [
        "###Problem Analysis\n",
        "\n",
        "To effectively manage a restaurant, we need to tackle various challenges such as menu management.The problem of menu management in a restaurant involves effectively organizing food and beverage items to customers. It encompasses tasks such as displaying relevant information to customers. The goal is to provide a clear and user-friendly menu that accurately reflects the restaurant's offerings and enhances the dining experience.\n",
        "\n",
        "Then, another common problem in restaurant management is inefficient order processing. This can lead to delays in serving customers, mistakes in order fulfillment, and overall dissatisfaction. Inefficient order processing may result from manual order taking, lack of clear communication channels between staff members, or inadequate training.\n",
        "\n",
        "After that, the problem of table management in a restaurant involves efficiently tracking and organizing the tables available for seating customers. It requires keeping track of table availability, reservations, occupancy status, and turnover times. The goal is to optimize table allocation and maximize the utilization of the restaurant's seating capacity while ensuring a smooth and enjoyable dining experience for the customers."
      ],
      "metadata": {
        "id": "vsD0DoenNsah"
      }
    },
    {
      "cell_type": "markdown",
      "source": [
        "###Program Specification\n",
        "\n",
        "1. Menu Management:\n",
        "\n",
        "- Implement classes for show the menu of the restaurant to each customer.\n",
        "- Provide functions to display the code, name and price for each food in menu.\n",
        "\n",
        "2. Order Processing:\n",
        "\n",
        "- Create classes to handle customer orders.\n",
        "- Implement functions to add items, specify quantities, calculate total price and display the order with total price.\n",
        "\n",
        "3. Table Management:\n",
        "\n",
        "- Design classes for handling table availability.\n",
        "- Provide functions for checking and changing for availability of the dining table.\n",
        "\n",
        "###Deliverables\n",
        "\n",
        "- Complete C++ program files (*.cpp, *.h) implementing the proposed classes and functionalities.\n",
        "- A documentation file describing the program structure, class relationships, and usage instructions.\n",
        "- Sample input files demonstrating the program's features and functionality.\n",
        "- Test cases and their expected outputs to verify the correctness of the implemented program."
      ],
      "metadata": {
        "id": "j2-_PP1dGx1i"
      }
    },
    {
      "cell_type": "markdown",
      "source": [
        "#Programming Design & Solution"
      ],
      "metadata": {
        "id": "JiIxF9NzPZpM"
      }
    },
    {
      "cell_type": "code",
      "source": [
        "%%writefile Menu.txt\n",
        "\n",
        "1 Nasi Goreng Biasa,7.00\n",
        "2 Nasi Goreng Tomyam,8.00\n",
        "3 Nasi Goreng Seafood,8.00\n",
        "4 Nasi Goreng Paprik,7.50\n",
        "5 Nasi Ayam,6.70\n",
        "6 Nasi Kandar,9.00\n",
        "7 Nasi Lemak Biasa,5.50\n",
        "8 Nasi Lemak Ayam Goreng,6.50\n",
        "9 Mee Goreng,5.00\n",
        "10 Mee Sup,6.00\n",
        "11 Maggi Tomyam,8.00\n",
        "12 Bihun Goreng,5.00\n",
        "13 Bihun Sup,6.00\n",
        "14 Sotong Bakar,7.00\n",
        "15 Nasi Putih,1.00\n",
        "16 Tomyam Seafood,6.40\n",
        "17 Tomyam Ayam,5.80\n",
        "18 Tomyam Daging,6.00\n",
        "19 Telur Dadar,1.50\n",
        "20 Kailan Ikan Masin,5.00\n",
        "21 Teh O Ais,1.60\n",
        "22 The Ais,2.10\n",
        "23 Sirap,1.60\n",
        "24 Sirap Limau,2.20\n",
        "25 Laici,3.00\n",
        "26 Teh Hijau,4.00\n",
        "27 Jus Oren,3.00\n",
        "28 Milo Ais,2.00\n",
        "29 Jus Timun,4.00\n",
        "30 Barli,3.00\n",
        "31 Barli Limau,4.20\n",
        "32 Jus 'Carrot',4.50\n",
        "33 Kopi Tongkat Ali,3.80\n",
        "34 Kopi Radix,3.70\n",
        "35 Kopi,2.00\n",
        "36 Kopi O',2.80\n",
        "37 Nesface,3.50\n",
        "38 Jus Belimbing,4.70\n",
        "39 Asam Boi,3.50\n",
        "40 Jus Epal,4.70"
      ],
      "metadata": {
        "id": "UFvdZ5aMPsOl",
        "colab": {
          "base_uri": "https://localhost:8080/"
        },
        "outputId": "06141982-44c0-421c-e8fd-05738439ac73"
      },
      "execution_count": 201,
      "outputs": [
        {
          "output_type": "stream",
          "name": "stdout",
          "text": [
            "Overwriting Menu.txt\n"
          ]
        }
      ]
    },
    {
      "cell_type": "code",
      "source": [
        "%%writefile table.txt\n",
        "1 true\n",
        "2 true\n",
        "3 false\n",
        "4 true\n",
        "5 true\n",
        "6 false\n",
        "7 true\n",
        "8 true\n",
        "9 false\n",
        "10 true"
      ],
      "metadata": {
        "colab": {
          "base_uri": "https://localhost:8080/"
        },
        "id": "WGUUASQDkYX1",
        "outputId": "c0475b9e-8c70-4510-b84f-70c5f071df21"
      },
      "execution_count": 202,
      "outputs": [
        {
          "output_type": "stream",
          "name": "stdout",
          "text": [
            "Overwriting table.txt\n"
          ]
        }
      ]
    },
    {
      "cell_type": "code",
      "source": [
        "%%writefile Restaurant.h\n",
        "// Class declaration/specification for \"Restaurant.h\"\n",
        "#include <string>\n",
        "using namespace std;\n",
        "#ifndef RESTAURANT_H\n",
        "#define RESTAURANT_H\n",
        "\n",
        "\n",
        "class Restaurant{\n",
        "  private:\n",
        "    // service for opening menu and table availability.\n",
        "    int service;\n",
        "\n",
        "  public:\n",
        "    // constructor and destructor for class \n",
        "    Restaurant();\n",
        "    ~Restaurant(); \n",
        "    void setService(int); \n",
        "    void launchService();\n",
        "};\n",
        "\n",
        "#endif"
      ],
      "metadata": {
        "colab": {
          "base_uri": "https://localhost:8080/"
        },
        "id": "ff2La9uVaLdZ",
        "outputId": "5bd5691b-32dd-4bba-ccf1-6e02c63e99c5"
      },
      "execution_count": 203,
      "outputs": [
        {
          "output_type": "stream",
          "name": "stdout",
          "text": [
            "Overwriting Restaurant.h\n"
          ]
        }
      ]
    },
    {
      "cell_type": "code",
      "source": [
        "%%writefile Restaurant.cpp\n",
        "//Class implementation for \"Restaurant.h\"\n",
        "// 10 hours on Menu.h/Menu.cpp :O\n",
        "\n",
        "#include <iostream>\n",
        "#include \"Restaurant.h\"\n",
        "#include \"Menu.h\"\n",
        "#include \"Order.h\"\n",
        "#include \"table.h\"\n",
        "#include <cstdlib>\n",
        "#include <string>\n",
        "using namespace std;\n",
        "\n",
        "void Restaurant::setService(int x) \n",
        "{\n",
        "  if(x>=1&&x<=3)\n",
        "  {\n",
        "    service = x;\n",
        "  }\n",
        "  else\n",
        "  {\n",
        "    //input validation for service\n",
        "    cout << \"Invalid Value\" << endl;\n",
        "    exit(EXIT_FAILURE);\n",
        "  }\n",
        "}\n",
        "\n",
        "void Restaurant::launchService(){\n",
        "  if(service == 1){\n",
        "    Menu display;\n",
        "    display.displayMenu();\n",
        "    }\n",
        "\n",
        "  else if(service == 2){\n",
        "    Table access;\n",
        "    access.tablePrompt();\n",
        "\n",
        "  }\n",
        "  else if (service == 3) {\n",
        "    Table myTable1;\n",
        "    Table myTable2;\n",
        "    Table myTable3;\n",
        "    string string1 = \"Mahogany\";\n",
        "    string string2 = \"Steel\";\n",
        "    string string3 = \"Stainless Steel\";\n",
        "    myTable1.setType(string1);\n",
        "    myTable2.setType(string2);\n",
        "    myTable3.setType(string3);\n",
        "    cout << \"Our Table Types: \" << endl;\n",
        "    cout << \"1. \" << myTable1.getType() << endl;\n",
        "    cout << \"2. \" << myTable2.getType() << endl;\n",
        "    cout << \"3. \" << myTable3.getType() << endl;\n",
        "  }\n",
        "}\n",
        "\n",
        "// constructor\n",
        "Restaurant::Restaurant()\n",
        "{\n",
        "  service = 0;\n",
        "}\n",
        "\n",
        "Restaurant::~Restaurant() {}"
      ],
      "metadata": {
        "colab": {
          "base_uri": "https://localhost:8080/"
        },
        "id": "NEpt4fFjaOO_",
        "outputId": "54500f1b-a2be-408c-f60a-ad3e846e675b"
      },
      "execution_count": 204,
      "outputs": [
        {
          "output_type": "stream",
          "name": "stdout",
          "text": [
            "Overwriting Restaurant.cpp\n"
          ]
        }
      ]
    },
    {
      "cell_type": "code",
      "source": [
        "%%writefile Menu.h\n",
        "// Class declaration/specification for \"Menu.h\"\n",
        "#include <string>\n",
        "#include \"Order.h\"\n",
        "using namespace std;\n",
        "#ifndef MENU_H\n",
        "#define MENU_H\n",
        "\n",
        "class Menu{\n",
        "  private:\n",
        "    int MenuCode;\n",
        "    string MenuName;\n",
        "    double MenuPrice;\n",
        "\n",
        "  public:\n",
        "    void setMenuCode(int);\n",
        "    void setMenuName(string);\n",
        "    void setMenuPrice(double);\n",
        "    int getMenuCode() const;\n",
        "    string getMenuName() const;\n",
        "    double getMenuPrice() const;\n",
        "    void displayMenu();\n",
        "\n",
        "    // operator overloading for operator '=='\n",
        "    bool operator==(const Menu& other) const {\n",
        "      return (MenuName == other.MenuName && MenuPrice == other.MenuPrice && MenuCode == other.MenuCode);\n",
        "    }\n",
        "\n",
        "};\n",
        "\n",
        "#endif"
      ],
      "metadata": {
        "colab": {
          "base_uri": "https://localhost:8080/"
        },
        "id": "_M7WV8-JaScw",
        "outputId": "c27a4c75-529c-4d8e-dfc6-711f53358a88"
      },
      "execution_count": 205,
      "outputs": [
        {
          "output_type": "stream",
          "name": "stdout",
          "text": [
            "Overwriting Menu.h\n"
          ]
        }
      ]
    },
    {
      "cell_type": "code",
      "source": [
        "%%writefile Menu.cpp\n",
        "//Class implementation for \"Menu.h\"\n",
        "\n",
        "#include <iostream>\n",
        "#include \"Menu.h\"\n",
        "#include \"Order.h\"\n",
        "#include <string>\n",
        "#include <fstream>\n",
        "#include <iomanip>\n",
        "using namespace std;\n",
        "\n",
        "// Mutators and Accessors\n",
        "void Menu::setMenuCode(int code){\n",
        "  MenuCode = code;\n",
        "}\n",
        "\n",
        "void Menu::setMenuName(string name){\n",
        "  MenuName = name;\n",
        "}\n",
        "\n",
        "void Menu::setMenuPrice(double price){\n",
        "  MenuPrice = price;\n",
        "}\n",
        "\n",
        "int Menu::getMenuCode() const{\n",
        "  return MenuCode;\n",
        "}\n",
        "\n",
        "string Menu::getMenuName() const{\n",
        "  return MenuName;\n",
        "}\n",
        "\n",
        "double Menu::getMenuPrice() const{\n",
        "  return MenuPrice;\n",
        "}\n",
        "\n",
        "void Menu::displayMenu(){\n",
        "  const int MAX_MENU_LIST = 40;\n",
        "  Menu menu[MAX_MENU_LIST];\n",
        "\n",
        "  // file processing\n",
        "  ifstream inputFile(\"Menu.txt\");\n",
        "\n",
        "  string name;\n",
        "  int code;\n",
        "  double price;\n",
        "  int i=0;\n",
        "\n",
        "  // input from file into menu object\n",
        "  while(inputFile >> code && getline(inputFile, name, ',') && inputFile >> price){\n",
        "    menu[i].setMenuCode(code);\n",
        "    menu[i].setMenuName(name);\n",
        "    menu[i].setMenuPrice(price);\n",
        "\n",
        "    i++;\n",
        "    if (i==MAX_MENU_LIST) break;\n",
        "  }\n",
        "\n",
        "  // closing file\n",
        "  inputFile.close();\n",
        "\n",
        "  cout << \"Menu List\" << endl\n",
        "       << setw(4) << \"Code\" << setw(20) << \"Menu\" << setw(20) << \"Price\" << endl;\n",
        "  for(int i=0;i<MAX_MENU_LIST;i++){\n",
        "    cout << setw(4) << menu[i].getMenuCode() << setw(25) << menu[i].getMenuName() << setw(15) << setprecision(2) << fixed << showpoint << menu[i].getMenuPrice() << endl;\n",
        "  }\n",
        "\n",
        "  string input;\n",
        "  bool takeOrder;\n",
        "\n",
        "  cout << \"Do you want to take order?(Yes/No)\" << endl;\n",
        "    cin >> input;\n",
        "    while(input!=\"Yes\" && input !=\"No\"){\n",
        "        cout << \"Please enter a valid response (Yes or No)\" << endl;\n",
        "        cin >> input;\n",
        "    }\n",
        "\n",
        "    if (input==\"Yes\")\n",
        "        takeOrder = true;\n",
        "    else if(input==\"No\")\n",
        "        takeOrder = false;\n",
        "\n",
        "    if(takeOrder){\n",
        "      Order order(menu);\n",
        "      int choice;\n",
        "      \n",
        "// Repeat the menu while choice != 6\n",
        "do {\n",
        "    cout << \"Please select an option:\" << endl\n",
        "        << \"1. Add order\" << endl\n",
        "        << \"2. Remove order\" << endl\n",
        "        << \"3. Display order\" << endl\n",
        "        << \"4. Check out\" << endl\n",
        "        << \"5. Compare dishes!\" << endl\n",
        "        << \"6. Exit\" << endl;\n",
        "    cin >> choice;\n",
        "    int quantity;\n",
        "    int code;\n",
        "\n",
        "    // Switch-case for menu choices\n",
        "    switch (choice) {\n",
        "    case 1:\n",
        "        cout << \"Please enter the menu code and quantity (separated by a space): \";\n",
        "        cin >> code >> quantity;\n",
        "\n",
        "        //input validation\n",
        "        if (code < 1 || code > 40)\n",
        "        {\n",
        "          cout << \"Invalid code. Try Again.\";\n",
        "          break;\n",
        "        }\n",
        "\n",
        "        for (int i = 0; i < MAX_MENU_LIST; i++) {\n",
        "            if (menu[i].getMenuCode() == code) {\n",
        "                order.addOrder(i, quantity);\n",
        "                break;\n",
        "            }\n",
        "            \n",
        "        }\n",
        "        break;\n",
        "    case 2:\n",
        "        cout << \"Please enter the menu code: \";\n",
        "        cin >> code;\n",
        "        for (int i = 0; i < MAX_MENU_LIST; i++) {\n",
        "            if (menu[i].getMenuCode() == code) {\n",
        "                order.removeOrder(i);\n",
        "                break;\n",
        "            }\n",
        "        }\n",
        "        break;\n",
        "    case 3:\n",
        "        order.displayOrder();\n",
        "        break;\n",
        "    case 4:\n",
        "        cout << \"===========================\" << endl;\n",
        "        cout << \"Total: $\" << setprecision(2) << fixed << showpoint << order.getTotal() << endl;\n",
        "        cout << \"========================================\" << endl;\n",
        "        cout << \"You may pay at the counter later on, thank you for dining in with us!\" << endl;\n",
        "        cout << \"===========================\" << endl;\n",
        "\n",
        "        break;\n",
        "    case 5:\n",
        "        int id1, id2, index1, index2;\n",
        "        \n",
        "        cout << \"Which dishes would you like to compare? Enter their ID with a space in between.\" << endl;\n",
        "        cin >> id1 >> id2;\n",
        "\n",
        "        for (int h = 0; h < MAX_MENU_LIST; h++) {\n",
        "            if (menu[h].getMenuCode() == id1) { \n",
        "              index1 = h;\n",
        "              break;\n",
        "            }\n",
        "        }\n",
        "\n",
        "        for (int j = 0; j < MAX_MENU_LIST; j++) {\n",
        "            if (menu[j].getMenuCode() == id2) { \n",
        "              index2 = j;\n",
        "              break;\n",
        "            }\n",
        "        }\n",
        "\n",
        "        // Compare the first and second Menu objects for equality using the overloaded == operator\n",
        "            if (menu[index1] == menu[index2]) {\n",
        "              cout << \"The two dishes are the same.\" << endl;\n",
        "              } else {\n",
        "                cout << \"The two dishes are not the same.\" << endl;\n",
        "              }\n",
        "              break;\n",
        "\n",
        "    case 6:\n",
        "        cout << \"Goodbye!\" << endl;\n",
        "        break;\n",
        "    default:\n",
        "        cout << \"Invalid option. Please try again.\" << endl;\n",
        "        break;\n",
        "    }\n",
        "} while (choice != 6);\n",
        "    }\n",
        "}"
      ],
      "metadata": {
        "colab": {
          "base_uri": "https://localhost:8080/"
        },
        "id": "MhiJK4DIaVnV",
        "outputId": "0190e76a-3624-42a6-d39b-058337db4296"
      },
      "execution_count": 206,
      "outputs": [
        {
          "output_type": "stream",
          "name": "stdout",
          "text": [
            "Overwriting Menu.cpp\n"
          ]
        }
      ]
    },
    {
      "cell_type": "code",
      "source": [
        "%%writefile Order.h\n",
        "// Class declaration/specification for \"Order.h\"\n",
        "\n",
        "#include <string>\n",
        "#include <iostream>\n",
        "#ifndef INVENTORY_H\n",
        "#define INVENTORY_H\n",
        "#include \"Menu.h\"\n",
        "\n",
        "using namespace std;\n",
        "\n",
        "class Order {\n",
        "private:\n",
        "    Menu* menu;\n",
        "    int* quantities;\n",
        "    int numItems;\n",
        "    const int MAX_MENU_LIST = 40;\n",
        "public:\n",
        "    Order(Menu* m) : menu(m), numItems(0) { \n",
        "      quantities = new int[MAX_MENU_LIST];\n",
        "      for (int i = 0; i < MAX_MENU_LIST; i++) {\n",
        "        quantities[i] = 0;\n",
        "      }\n",
        "    }\n",
        "    ~Order() { delete[] quantities; }\n",
        "    void addOrder(int menuIndex, int quantity);\n",
        "    void removeOrder(int menuIndex);\n",
        "    void displayOrder();\n",
        "    double getTotal();\n",
        "};\n",
        "\n",
        "#endif\n"
      ],
      "metadata": {
        "colab": {
          "base_uri": "https://localhost:8080/"
        },
        "id": "ZbPJHJ1OaYsm",
        "outputId": "24d51c2f-4051-480e-8641-3c9aff48fcb9"
      },
      "execution_count": 207,
      "outputs": [
        {
          "output_type": "stream",
          "name": "stdout",
          "text": [
            "Overwriting Order.h\n"
          ]
        }
      ]
    },
    {
      "cell_type": "code",
      "source": [
        "%%writefile Order.cpp\n",
        "//Class implementation for \"Order.h\"\n",
        "\n",
        "#include <iostream>\n",
        "#include <iomanip>\n",
        "#include \"Menu.h\"\n",
        "#include \"Order.h\"\n",
        "\n",
        "\n",
        "using namespace std;\n",
        "\n",
        "void Order::addOrder(int menuIndex, int quantity) {\n",
        "    quantities[menuIndex] += quantity;\n",
        "    numItems++;\n",
        "    cout << \"Order added!\" << endl;\n",
        "}\n",
        "\n",
        "void Order::removeOrder(int menuIndex) {\n",
        "    if (quantities[menuIndex] > 0) {\n",
        "        quantities[menuIndex]--;\n",
        "        numItems--;\n",
        "    }\n",
        "}\n",
        "\n",
        "void Order::displayOrder() {\n",
        "    double total = 0;\n",
        "    cout << \"Order List\" << endl\n",
        "        << setw(4) << \"Code\" << setw(21) << \"Menu\" << setw(21) << \"Price\" << setw(13) << \"Quantity\" << endl;\n",
        "    for (int i = 0; i < MAX_MENU_LIST; i++) {\n",
        "        if (quantities[i] > 0) {\n",
        "            cout << setw(4) << menu[i].getMenuCode() << setw(25) << menu[i].getMenuName() << setw(15) << setprecision(2) << fixed << showpoint <<\n",
        "            menu[i].getMenuPrice() << setw(15) << quantities[i] << endl;\n",
        "        total += quantities[i] * menu[i].getMenuPrice();\n",
        "    }\n",
        "}\n",
        "cout << \"========================================\" << endl;\n",
        "cout << \"Total: RM\" << setprecision(2) << fixed << showpoint << total << endl;\n",
        "cout << \"========================================\" << endl;\n",
        "}\n",
        "\n",
        "double Order::getTotal() {\n",
        "double total = 0;\n",
        "for (int i = 0; i < MAX_MENU_LIST; i++) {\n",
        "total += quantities[i] * menu[i].getMenuPrice();\n",
        "}\n",
        "return total;\n",
        "}"
      ],
      "metadata": {
        "colab": {
          "base_uri": "https://localhost:8080/"
        },
        "id": "XU9dBLNRaZeb",
        "outputId": "9881fa09-e5d5-4d90-af83-732d4ae3b5f4"
      },
      "execution_count": 208,
      "outputs": [
        {
          "output_type": "stream",
          "name": "stdout",
          "text": [
            "Overwriting Order.cpp\n"
          ]
        }
      ]
    },
    {
      "cell_type": "code",
      "source": [
        "%%writefile table.h\n",
        "// Class declaration/specification for \"table.h\"\n",
        "\n",
        "#ifndef TABLE_H\n",
        "#define TABLE_H\n",
        "#include <string>\n",
        "\n",
        "using namespace std;\n",
        "\n",
        "class TableType {\n",
        "  private:\n",
        "  string type;\n",
        "  public:\n",
        "  string getType() const { return type; }\n",
        "  void setType(string Stype) {\n",
        "    type = Stype;\n",
        "  }\n",
        "};\n",
        "\n",
        "// Inheritance from parent class TableType\n",
        "class Table : public TableType {\n",
        "  private:\n",
        "  int tableNum;\n",
        "  bool vacant;\n",
        "\n",
        "  public:\n",
        "  Table();\n",
        "  Table(int num, bool vac);\n",
        "  void setTableNum(int);\n",
        "  void setVacant(bool);\n",
        "  int getTableNum() const;\n",
        "  bool getVacant() const;\n",
        "  void tablePrompt();\n",
        "  friend void modifyVac(int);\n",
        "  friend void checkTable();\n",
        "};\n",
        "\n",
        "\n",
        "#endif"
      ],
      "metadata": {
        "colab": {
          "base_uri": "https://localhost:8080/"
        },
        "id": "v3zaO0OhkIA9",
        "outputId": "32620fd0-99b0-4775-b7db-6803c886bd5d"
      },
      "execution_count": 209,
      "outputs": [
        {
          "output_type": "stream",
          "name": "stdout",
          "text": [
            "Overwriting table.h\n"
          ]
        }
      ]
    },
    {
      "cell_type": "code",
      "source": [
        "%%writefile table.cpp\n",
        "//Class implementation for \"table.h\"\n",
        "\n",
        "#include <fstream>\n",
        "#include <iostream>\n",
        "#include \"table.h\"\n",
        "#include <string>\n",
        "#include <iomanip>\n",
        "using namespace std;\n",
        "\n",
        "const int MAX_TABLES=10;\n",
        "Table::Table() {\n",
        "    tableNum = 0;\n",
        "    vacant = true;\n",
        "}\n",
        "Table::Table(int num, bool vac) {\n",
        "    tableNum = num;\n",
        "    vacant = vac;\n",
        "}\n",
        "void Table::setTableNum(int num){\n",
        "  tableNum = num;\n",
        "} \n",
        "void Table::setVacant(bool vac){\n",
        "  vacant = vac;\n",
        "}\n",
        "int Table::getTableNum() const{\n",
        "  return tableNum;\n",
        "}\n",
        "bool Table::getVacant() const{\n",
        "  return vacant;\n",
        "}\n",
        "\n",
        "// Friend function to access private member of class Table and modify vacancy\n",
        "void modifyVac(int targetTable){\n",
        "  Table tables[MAX_TABLES];\n",
        "  ifstream inFile(\"table.txt\");\n",
        "  int num;\n",
        "  bool vac;\n",
        "  int i = 0;\n",
        "  while (inFile >> num >>boolalpha>> vac){\n",
        "    tables[i].setTableNum(num);\n",
        "    tables[i].setVacant(vac);\n",
        "    i++;\n",
        "  }\n",
        "  inFile.close();\n",
        "\n",
        "  for(int i=0;i<MAX_TABLES;i++){\n",
        "    if (tables[i].getTableNum()==targetTable){\n",
        "      tables[i].setVacant(!tables[i].getVacant());\n",
        "      break;\n",
        "    }\n",
        "  }\n",
        "\n",
        "  ofstream outFile(\"table.txt\");\n",
        "\n",
        "  for(int i=0;i<MAX_TABLES;i++){\n",
        "    outFile << tables[i].getTableNum() << \" \";\n",
        "    if(tables[i].getVacant()){\n",
        "      outFile << \"true\";\n",
        "    } else {\n",
        "      outFile << \"false\";\n",
        "    }\n",
        "    outFile << endl;\n",
        "  }\n",
        "\n",
        "  outFile.close();\n",
        "\n",
        "}\n",
        "// Friend function to access private member of class Table and check availability\n",
        "void checkTable(){\n",
        "  ifstream inFile(\"table.txt\");\n",
        "  int num;\n",
        "  bool vac;\n",
        "  cout << setw(15) << \"Table Number\" << setw(15) << \"Vacancy\" << endl;\n",
        "  while (inFile >> num >> boolalpha >> vac){\n",
        "    cout << setw(15) << num << setw(15);\n",
        "    if(vac){\n",
        "      cout << \"Available\";\n",
        "    } else {\n",
        "      cout << \"Not Available\";\n",
        "    }\n",
        "    cout << endl;\n",
        "  }\n",
        "  inFile.close();\n",
        "  \n",
        "}\n",
        "\n",
        "void Table::tablePrompt(){\n",
        "  int choice;\n",
        "  cout << \"What would you like to do?\" << endl\n",
        "       << \"1. Check Table Vacancy\" << endl\n",
        "       << \"2. Change Table Vacancy\" << endl;\n",
        "  cin >> choice;\n",
        "  while(choice!=1&&choice!=2){\n",
        "    cout << \"Please enter 1 or 2 only.\" << endl;\n",
        "    cin >> choice;\n",
        "  }\n",
        "\n",
        "  if (choice==1){\n",
        "    checkTable();\n",
        "  } else{\n",
        "    int num;\n",
        "    cout << \"Enter the table number to change vacancy : \";\n",
        "    cin >> num;\n",
        "    while(num<=1&&num>=10) {\n",
        "      cout << \"Invalid table number. Enter again..\" << endl;\n",
        "      cin >> num;\n",
        "    }\n",
        "    modifyVac(num);\n",
        "    cout << \"Table vacancy changed successfully!\";\n",
        "  }\n",
        "}"
      ],
      "metadata": {
        "colab": {
          "base_uri": "https://localhost:8080/"
        },
        "id": "pb79lNOskI_x",
        "outputId": "8ebf7df9-da45-41d6-c531-619fb81ac602"
      },
      "execution_count": 210,
      "outputs": [
        {
          "output_type": "stream",
          "name": "stdout",
          "text": [
            "Overwriting table.cpp\n"
          ]
        }
      ]
    },
    {
      "cell_type": "code",
      "source": [
        "%%writefile main.cpp\n",
        "// Main file\n",
        "\n",
        "#include <string>\n",
        "#include <iostream>\n",
        "#include \"Restaurant.h\"\n",
        "using namespace std;\n",
        "\n",
        "int main(){\n",
        "  // Only one object in main.cpp\n",
        "  Restaurant manage;\n",
        "  int serv;\n",
        "\n",
        "  cout << \"Welcome to our Restaurant!\" << endl;\n",
        "\n",
        "  cout << \"Enter 1 : Opening Menu \" << endl\n",
        "       << \"Enter 2 : Table Availability \" << endl\n",
        "       << \"Enter 3 : Table Type \" << endl\n",
        "       << \"What would you like to do? : \";\n",
        "\n",
        "  cin >> serv;\n",
        "\n",
        "  manage.setService(serv);\n",
        "  manage.launchService();\n",
        "\n",
        "  return 0;\n",
        "}"
      ],
      "metadata": {
        "colab": {
          "base_uri": "https://localhost:8080/"
        },
        "id": "8mclFEQEaa6b",
        "outputId": "7d87e5eb-e5b9-42c3-a8cb-33233bea9075"
      },
      "execution_count": 211,
      "outputs": [
        {
          "output_type": "stream",
          "name": "stdout",
          "text": [
            "Overwriting main.cpp\n"
          ]
        }
      ]
    },
    {
      "cell_type": "code",
      "source": [
        "%%shell \n",
        "\n",
        "g++ Restaurant.cpp Restaurant.h Menu.h Menu.cpp Order.h Order.cpp table.h table.cpp main.cpp -o Restaurant.elf\n",
        "./Restaurant.elf"
      ],
      "metadata": {
        "id": "RUovnF29af8R"
      },
      "execution_count": null,
      "outputs": []
    }
  ]
}